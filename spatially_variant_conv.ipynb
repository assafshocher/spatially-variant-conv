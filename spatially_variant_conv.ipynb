{
 "cells": [
  {
   "cell_type": "markdown",
   "id": "e8543c93",
   "metadata": {},
   "source": [
    "# Alternative localy connected / spatially variant filters"
   ]
  },
  {
   "cell_type": "markdown",
   "id": "2a78ef26",
   "metadata": {},
   "source": [
    "## Technical needs"
   ]
  },
  {
   "cell_type": "code",
   "execution_count": 1,
   "id": "4793d008",
   "metadata": {},
   "outputs": [],
   "source": [
    "import torch\n",
    "import torch.nn.functional as F\n",
    "DEVICE = torch.device('cuda' if torch.cuda.is_available() else 'cpu')"
   ]
  },
  {
   "cell_type": "code",
   "execution_count": 2,
   "id": "198a39e6",
   "metadata": {},
   "outputs": [],
   "source": [
    "start = torch.cuda.Event(enable_timing=True)\n",
    "end = torch.cuda.Event(enable_timing=True)"
   ]
  },
  {
   "cell_type": "markdown",
   "id": "5302535a",
   "metadata": {},
   "source": [
    "## The regular method"
   ]
  },
  {
   "cell_type": "code",
   "execution_count": 4,
   "id": "0eaf59d7",
   "metadata": {},
   "outputs": [],
   "source": [
    "def method_1(feature_map, filters):\n",
    "    # sizes\n",
    "    N, C, H, W = feature_map.shape\n",
    "    K = round(filters.shape[1] ** 0.5) # patch size 1 dim, assume squared shape\n",
    "    \n",
    "    # unfold feautre-map and reshape to match filters tensor\n",
    "    unfolded = F.unfold(feature_map, K, padding=K//2).view(N, C, K ** 2, H, W)\n",
    "    \n",
    "    # sum over the filter dim\n",
    "    return torch.einsum('nckhw,nkhw->nchw', unfolded, filters)"
   ]
  },
  {
   "cell_type": "markdown",
   "id": "7753649b",
   "metadata": {},
   "source": [
    "## Alternative no-unfolding method"
   ]
  },
  {
   "cell_type": "code",
   "execution_count": 5,
   "id": "a64a57ad",
   "metadata": {},
   "outputs": [],
   "source": [
    "def method_2(feature_map, filters):\n",
    "    # sizes\n",
    "    N, C, H, W = feature_map.shape\n",
    "    K = round(filters.shape[1] ** 0.5) # patch size 1 dim, assume squared shape\n",
    "    \n",
    "    # shift channels of filter tensors\n",
    "    filters = filters.view(N, K, K, H, W)\n",
    "    filters = shift_all_directions(filters, K, reverse=False).view(N, K**2, H, W)\n",
    "    \n",
    "    # outer product on channels and patch size dims\n",
    "    multiplied = torch.einsum('nchw,nkhw->nckhw', feature_map, filters).view(N, C, K, K, H, W)\n",
    "    \n",
    "    # shift result back and sum\n",
    "    return shift_all_directions(multiplied, K, reverse=True).view(N, C, K**2, H, W).sum(2)\n",
    "\n",
    "\n",
    "def shift_all_directions(x, K, reverse):\n",
    "    # shift each channel with a different shift vector, row major\n",
    "    for ind_h in range(K):\n",
    "        for ind_w in range(K):\n",
    "            shift_h, shift_w = (ind_h - K // 2) * (1 - 2*int(reverse)), (ind_w - K // 2) * (1 - 2*int(reverse))\n",
    "            x[..., ind_h, ind_w, :, :] = F.pad(x[..., ind_h, ind_w, :, :], (shift_w, -shift_w, shift_h, -shift_h))\n",
    "    return x"
   ]
  },
  {
   "cell_type": "markdown",
   "id": "8c7b4e42",
   "metadata": {},
   "source": [
    "## Set experiment data"
   ]
  },
  {
   "cell_type": "code",
   "execution_count": 38,
   "id": "eef907ce",
   "metadata": {},
   "outputs": [],
   "source": [
    "N = 2048  # batch size\n",
    "C = 1 # feature map channels\n",
    "K = 3  # filter size is K by K.\n",
    "H = 32\n",
    "W = 32\n",
    "feature_map = torch.randn((N, C, H, W), device=DEVICE)\n",
    "filters = torch.rand((N, K**2, H, W), device=DEVICE)"
   ]
  },
  {
   "cell_type": "markdown",
   "id": "bb1f525e",
   "metadata": {},
   "source": [
    "## Compare methods"
   ]
  },
  {
   "cell_type": "code",
   "execution_count": 39,
   "id": "a414f514",
   "metadata": {},
   "outputs": [
    {
     "name": "stdout",
     "output_type": "stream",
     "text": [
      "method_1 time: 26.50726318359375\n",
      "method_2 time: 2.617151975631714\n",
      "~ same result?: True\n"
     ]
    }
   ],
   "source": [
    "start.record()\n",
    "result_1 = method_1(feature_map, filters)\n",
    "end.record()\n",
    "torch.cuda.synchronize()\n",
    "print('method_1 time:', start.elapsed_time(end))\n",
    "\n",
    "start.record()\n",
    "result_2 = method_2(feature_map, filters)\n",
    "end.record()\n",
    "torch.cuda.synchronize()\n",
    "print('method_2 time:', start.elapsed_time(end))\n",
    "\n",
    "print(\"~ same result?:\", ((result_1 - result_2).abs() < 10e-5).all().item())"
   ]
  }
 ],
 "metadata": {
  "kernelspec": {
   "display_name": "Python 3",
   "language": "python",
   "name": "python3"
  },
  "language_info": {
   "codemirror_mode": {
    "name": "ipython",
    "version": 3
   },
   "file_extension": ".py",
   "mimetype": "text/x-python",
   "name": "python",
   "nbconvert_exporter": "python",
   "pygments_lexer": "ipython3",
   "version": "3.6.13"
  }
 },
 "nbformat": 4,
 "nbformat_minor": 5
}
